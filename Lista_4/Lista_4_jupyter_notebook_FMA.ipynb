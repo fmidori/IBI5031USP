{
 "cells": [
  {
   "cell_type": "markdown",
   "metadata": {},
   "source": [
    "Aluno: Fernanda Midori Abukawa\n",
    "\n",
    "nº USP: 9797594\n",
    "\n",
    "Disciplina: IBI5031 - 2º semestre de 2020\n",
    "\n",
    "Prof: Marcelo da Silva Reis\n",
    "\n",
    "Lista 4\n",
    "\n",
    "utilizados: python3, anaconda3, jupyter notebooks v6.1, macOS, sklearn v0.23"
   ]
  },
  {
   "cell_type": "code",
   "execution_count": 105,
   "metadata": {},
   "outputs": [],
   "source": [
    "import pandas as pd\n",
    "import numpy as np\n",
    "from sklearn.preprocessing import StandardScaler\n",
    "from sklearn.cluster import KMeans\n",
    "from sklearn.cluster import AgglomerativeClustering\n",
    "from matplotlib import pyplot as plt\n",
    "from scipy.cluster.hierarchy import dendrogram\n",
    "from sklearn.svm import SVC "
   ]
  },
  {
   "cell_type": "code",
   "execution_count": 106,
   "metadata": {},
   "outputs": [
    {
     "name": "stdout",
     "output_type": "stream",
     "text": [
      "são 195 pontos e 23 características\n",
      "X normalizado\n"
     ]
    }
   ],
   "source": [
    "data = pd.read_csv('parkinsons.data.csv', sep = ',')\n",
    "\n",
    "#tirando a primeira coluna com os nomes dos pacientes\n",
    "data.drop('name',axis = 1, inplace = True)\n",
    "\n",
    "y = data['status'].copy()\n",
    "X = data.drop('status',axis = 1).copy()\n",
    "\n",
    "#numero de N características \n",
    "N = len(X)\n",
    "n_carac = len(data.columns)\n",
    "print('são %d pontos e %d características' % (N, n_carac))\n",
    "\n",
    "#normalizar os dados de input \n",
    "scaler = StandardScaler()\n",
    "X_scaled = scaler.fit_transform(X)\n",
    "print('X normalizado')"
   ]
  },
  {
   "cell_type": "markdown",
   "metadata": {},
   "source": [
    "## Exercício 1"
   ]
  },
  {
   "cell_type": "markdown",
   "metadata": {},
   "source": [
    "### Clustering por Kmeans"
   ]
  },
  {
   "cell_type": "markdown",
   "metadata": {},
   "source": [
    "Foi utilizado o método de clustering por kmeans e o resultado do clustering foi comparado com o rótulo real. Como o método nomeia os dois clusters por 0 e 1, foi comparado o resultado do clustering com os clusters sendo 0 e 1 e com os mesmos sendo 1 e 0. Dessa forma a escolha da melhor representação dos clusters como sendo a classificação final dos rótulos originais foi como o primeiro cluster sendo 1 e o segundo, 0. "
   ]
  },
  {
   "cell_type": "code",
   "execution_count": 107,
   "metadata": {},
   "outputs": [
    {
     "name": "stdout",
     "output_type": "stream",
     "text": [
      "o clustering por kmeans acertou 88 rótulos\n"
     ]
    }
   ],
   "source": [
    "#kmeans \n",
    "cluster = KMeans(n_clusters=2, init='k-means++', n_init=10, max_iter=300, verbose=0\n",
    "                ,random_state=42, algorithm='full')\n",
    "\n",
    "kmeans = cluster.fit(X_scaled)\n",
    "label_kmeans = kmeans.labels_\n",
    "#print(label_kmeans)\n",
    "\n",
    "#para computar o número de rótulos preditos corretos com os rótulos sem modificação\n",
    "correct_kmeans = 0\n",
    "for i in range(len(y)):\n",
    "    if y[i] == label_kmeans[i]:\n",
    "        correct_kmeans += 1\n",
    "\n",
    "print('o clustering por kmeans acertou %d rótulos' % correct_kmeans)"
   ]
  },
  {
   "cell_type": "code",
   "execution_count": 108,
   "metadata": {},
   "outputs": [
    {
     "name": "stdout",
     "output_type": "stream",
     "text": [
      "o clustering por kmeans modificado acertou 107 rótulos\n"
     ]
    }
   ],
   "source": [
    "#trocando o rótulo do cluster de 0 para 1 e 1 para 0 \n",
    "label_kmeans_ch = []\n",
    "for i in range(len(label_kmeans)):\n",
    "    if label_kmeans[i] == 1:\n",
    "        label_kmeans_ch.append(0)\n",
    "    elif label_kmeans[i] == 0:\n",
    "        label_kmeans_ch.append(1)\n",
    "        \n",
    "#para computar o número de rótulos preditos corretos \n",
    "correct_kmeans = 0\n",
    "for i in range(len(y)):\n",
    "    if y[i] == label_kmeans_ch[i]:\n",
    "        correct_kmeans += 1\n",
    "\n",
    "print('o clustering por kmeans modificado acertou %d rótulos' % correct_kmeans)"
   ]
  },
  {
   "cell_type": "markdown",
   "metadata": {},
   "source": [
    "### Melhor modelo de SVM da lista 3"
   ]
  },
  {
   "cell_type": "markdown",
   "metadata": {},
   "source": [
    "Esse modelo obteve acurácia de 1.0"
   ]
  },
  {
   "cell_type": "code",
   "execution_count": 133,
   "metadata": {},
   "outputs": [
    {
     "name": "stdout",
     "output_type": "stream",
     "text": [
      "Acurácia: 0.549\n"
     ]
    }
   ],
   "source": [
    "from sklearn.metrics import accuracy_score\n",
    "from sklearn.metrics import confusion_matrix\n",
    "\n",
    "#modificando os rótulos de y e do resultado do kmeans para comparação\n",
    "y = y.replace(to_replace = 0, value = -1)\n",
    "\n",
    "label_kmeans_mod = []\n",
    "for i in range(len(label_kmeans)):\n",
    "    if label_kmeans[i] == 1:\n",
    "        label_kmeans_mod.append(-1)\n",
    "    else:\n",
    "        label_kmeans_mod.append(1)\n",
    "\n",
    "#modelo de svm kernel polinomial da lista 3 \n",
    "clf_svm_poly = SVC(kernel = 'poly', C = 10, coef0 = 5, degree = 4, gamma = 0.01)\n",
    "clf_svm_poly.fit(X_scaled, y)\n",
    "label_svm = clf_svm_poly.predict(X_scaled)\n",
    "\n",
    "cm = confusion_matrix(y, label_kmeans_mod)\n",
    "#print(cm)\n",
    "print('Acurácia: %.3f' % accuracy_score(y,label_kmeans_mod))\n",
    "#print(label_svm)"
   ]
  },
  {
   "cell_type": "markdown",
   "metadata": {},
   "source": [
    "#### Comparação entre a classificação pelo SVM e pelo cluster kmeans"
   ]
  },
  {
   "cell_type": "markdown",
   "metadata": {},
   "source": [
    "| Modelo|Verdadeiro positivo|Falso positivo|Verdadeiro negativo|Falso negativo|Acurácia|\n",
    "|-------|-------------------|--------------|-------------------|--------------|--------|\n",
    "|SVM - polinomial | 147 | 0 | 48 | 0 | 1.0 |\n",
    "|K-means| 107 | 48 | 0 | 40 | 0.549 |\n",
    "\n"
   ]
  },
  {
   "cell_type": "markdown",
   "metadata": {},
   "source": [
    "Nesse caso, o método de aprendizado supervisionado SVM se mostrou muito superior ao método de agrupamento por kmeans. "
   ]
  },
  {
   "cell_type": "markdown",
   "metadata": {},
   "source": [
    "## Exercício 2"
   ]
  },
  {
   "cell_type": "markdown",
   "metadata": {},
   "source": [
    "No Agrupamento hierárquico foram utilizados as diferentes linkages (ward, complete, average e single) com a métrica de distância euclidiana para fazer as comparações."
   ]
  },
  {
   "cell_type": "code",
   "execution_count": 3,
   "metadata": {},
   "outputs": [],
   "source": [
    "#função de plotar o dendograma \n",
    "def plot_dendrogram(model, **kwargs):\n",
    "    counts = np.zeros(model.children_.shape[0])\n",
    "    n_samples = len(model.labels_)\n",
    "    for i, merge in enumerate(model.children_):\n",
    "        current_count = 0\n",
    "        for child_idx in merge:\n",
    "            if child_idx < n_samples:\n",
    "                current_count += 1  \n",
    "            else:\n",
    "                current_count += counts[child_idx - n_samples]\n",
    "        counts[i] = current_count\n",
    "\n",
    "    linkage_matrix = np.column_stack([model.children_, model.distances_,\n",
    "                                      counts]).astype(float)\n",
    "    dendrogram(linkage_matrix, **kwargs)"
   ]
  },
  {
   "cell_type": "code",
   "execution_count": 96,
   "metadata": {},
   "outputs": [
    {
     "name": "stdout",
     "output_type": "stream",
     "text": [
      "são 48 pontos 0\n",
      "são 147 pontos 1\n"
     ]
    }
   ],
   "source": [
    "y = data['status'].copy()\n",
    "list_0 = []\n",
    "list_1 = []\n",
    "for i in range(len(y)):\n",
    "    if y[i] == 0:\n",
    "        list_0.append(i)\n",
    "    else:\n",
    "        list_1.append(i)\n",
    "print('são %d pontos 0' % len(list_0))\n",
    "print('são %d pontos 1' %len(list_1))"
   ]
  },
  {
   "cell_type": "markdown",
   "metadata": {},
   "source": [
    "https://stackoverflow.com/questions/57638604/extract-path-from-root-to-leaf-in-sklearns-agglomerative-clustering"
   ]
  },
  {
   "cell_type": "markdown",
   "metadata": {},
   "source": [
    "Foram utilizadas funções do stackoverflow para obter a lista dos pontos correspondentes de cada nodo em ordem de separação. Foram definidos como cluster 0 e 1 as duas separações dos pontos no dendograma, apenas como forma de comparar as quantidades de pontos em cada \"lado\" do dendograma. "
   ]
  },
  {
   "cell_type": "markdown",
   "metadata": {},
   "source": [
    "### Linkage Ward"
   ]
  },
  {
   "cell_type": "code",
   "execution_count": 115,
   "metadata": {},
   "outputs": [],
   "source": [
    "def find_ancestor(target):\n",
    "    for ind,pair in enumerate(model.children_):\n",
    "        if target in pair:\n",
    "            return [target]+find_ancestor(N+ind)\n",
    "    return [ind+N]\n",
    "\n",
    "mem = {}\n",
    "def find_descendent(node):\n",
    "    global mem\n",
    "    if node in mem: return mem[node]\n",
    "    if node<N: return [node]\n",
    "    pair = model.children_[node-N]\n",
    "    mem[node] = find_descendent(pair[0])+find_descendent(pair[1])\n",
    "    return mem[node]\n",
    "\n",
    "def find_children(n):\n",
    "    ans = []\n",
    "    for a in find_ancestor(n)[::-1]:\n",
    "        ans.append(find_descendent(a))\n",
    "    return ans[1] "
   ]
  },
  {
   "cell_type": "code",
   "execution_count": 114,
   "metadata": {},
   "outputs": [
    {
     "data": {
      "image/png": "[encoded data removed]",
      "text/plain": [
       "<Figure size 432x288 with 1 Axes>"
      ]
     },
     "metadata": {
      "needs_background": "light"
     },
     "output_type": "display_data"
    },
    {
     "name": "stdout",
     "output_type": "stream",
     "text": [
      "pontos do cluster 0: 87\n",
      "pontos do cluster 1: 108\n"
     ]
    }
   ],
   "source": [
    "model = AgglomerativeClustering(distance_threshold=0, n_clusters=None, \n",
    "                                affinity='euclidean', linkage='ward').fit(X_scaled)\n",
    "\n",
    "plt.title('Dendograma Cluster Hierárquico: linkage ward')\n",
    "plot_dendrogram(model, truncate_mode='level', p=3)\n",
    "plt.xlabel(\"Número de pontos nos nodos (ou index do ponto se fora do parênteses)\")\n",
    "plt.show()\n",
    "\n",
    "cluster_0 = find_children(0)\n",
    "for i in range(1,196):\n",
    "    if find_children(i) != cluster_0:\n",
    "        cluster_1 = find_children(i)\n",
    "        break\n",
    "        \n",
    "c0 = cluster_0\n",
    "c1 = cluster_1\n",
    "print('pontos do cluster 0:', len(cluster_0))\n",
    "print('pontos do cluster 1:', len(cluster_1))"
   ]
  },
  {
   "cell_type": "markdown",
   "metadata": {},
   "source": [
    "### Linkage Complete"
   ]
  },
  {
   "cell_type": "code",
   "execution_count": 116,
   "metadata": {},
   "outputs": [],
   "source": [
    "def find_ancestor(target):\n",
    "    for ind,pair in enumerate(model.children_):\n",
    "        if target in pair:\n",
    "            return [target]+find_ancestor(N+ind)\n",
    "    return [ind+N]\n",
    "\n",
    "mem = {}\n",
    "def find_descendent(node):\n",
    "    global mem\n",
    "    if node in mem: return mem[node]\n",
    "    if node<N: return [node]\n",
    "    pair = model.children_[node-N]\n",
    "    mem[node] = find_descendent(pair[0])+find_descendent(pair[1])\n",
    "    return mem[node]\n",
    "\n",
    "def find_children(n):\n",
    "    ans = []\n",
    "    for a in find_ancestor(n)[::-1]:\n",
    "        ans.append(find_descendent(a))\n",
    "    return ans[1] "
   ]
  },
  {
   "cell_type": "code",
   "execution_count": 117,
   "metadata": {},
   "outputs": [
    {
     "data": {
      "image/png": "[encoded data removed]",
      "text/plain": [
       "<Figure size 432x288 with 1 Axes>"
      ]
     },
     "metadata": {
      "needs_background": "light"
     },
     "output_type": "display_data"
    },
    {
     "name": "stdout",
     "output_type": "stream",
     "text": [
      "pontos do cluster 0: 181\n",
      "pontos do cluster 1: 14\n"
     ]
    }
   ],
   "source": [
    "model = AgglomerativeClustering(distance_threshold=0, n_clusters=None, \n",
    "                                affinity='euclidean', linkage='complete').fit(X_scaled)\n",
    "\n",
    "plt.title('Dendograma Cluster Hierárquico: linkage complete')\n",
    "plot_dendrogram(model, truncate_mode='level', p=3)\n",
    "plt.xlabel(\"Número de pontos nos nodos (ou index do ponto se fora do parênteses)\")\n",
    "plt.show()\n",
    "\n",
    "cluster_0 = find_children(0)\n",
    "for i in range(1,196):\n",
    "    if find_children(i) != cluster_0:\n",
    "        cluster_1 = find_children(i)\n",
    "        break \n",
    "print('pontos do cluster 0:', len(cluster_0))\n",
    "print('pontos do cluster 1:', len(cluster_1) )"
   ]
  },
  {
   "cell_type": "markdown",
   "metadata": {},
   "source": [
    "### Linkage Average"
   ]
  },
  {
   "cell_type": "code",
   "execution_count": 118,
   "metadata": {},
   "outputs": [],
   "source": [
    "def find_ancestor(target):\n",
    "    for ind,pair in enumerate(model.children_):\n",
    "        if target in pair:\n",
    "            return [target]+find_ancestor(N+ind)\n",
    "    return [ind+N]\n",
    "\n",
    "mem = {}\n",
    "def find_descendent(node):\n",
    "    global mem\n",
    "    if node in mem: return mem[node]\n",
    "    if node<N: return [node]\n",
    "    pair = model.children_[node-N]\n",
    "    mem[node] = find_descendent(pair[0])+find_descendent(pair[1])\n",
    "    return mem[node]\n",
    "\n",
    "def find_children(n):\n",
    "    ans = []\n",
    "    for a in find_ancestor(n)[::-1]:\n",
    "        ans.append(find_descendent(a))\n",
    "    return ans[1] "
   ]
  },
  {
   "cell_type": "code",
   "execution_count": 119,
   "metadata": {},
   "outputs": [
    {
     "data": {
      "image/png": "[encoded data removed]",
      "text/plain": [
       "<Figure size 432x288 with 1 Axes>"
      ]
     },
     "metadata": {
      "needs_background": "light"
     },
     "output_type": "display_data"
    },
    {
     "name": "stdout",
     "output_type": "stream",
     "text": [
      "pontos do cluster 0: 191\n",
      "pontos do cluster 1: 4\n"
     ]
    }
   ],
   "source": [
    "model = AgglomerativeClustering(distance_threshold=0, n_clusters=None, \n",
    "                                affinity='euclidean', linkage='average').fit(X_scaled)\n",
    "\n",
    "plt.title('Dendograma Cluster Hierárquico: euclidian, average')\n",
    "plot_dendrogram(model, truncate_mode='level', p=3)\n",
    "plt.xlabel(\"Número de pontos nos nodos (ou index do ponto se fora do parênteses)\")\n",
    "plt.show()\n",
    "\n",
    "cluster_0 = find_children(0)\n",
    "for i in range(1,196):\n",
    "    if find_children(i) != cluster_0:\n",
    "        cluster_1 = find_children(i)\n",
    "        break \n",
    "        \n",
    "print('pontos do cluster 0:', len(cluster_0))\n",
    "print('pontos do cluster 1:', len(cluster_1))"
   ]
  },
  {
   "cell_type": "markdown",
   "metadata": {},
   "source": [
    "### Linkage Single "
   ]
  },
  {
   "cell_type": "code",
   "execution_count": 120,
   "metadata": {},
   "outputs": [],
   "source": [
    "def find_ancestor(target):\n",
    "    for ind,pair in enumerate(model.children_):\n",
    "        if target in pair:\n",
    "            return [target]+find_ancestor(N+ind)\n",
    "    return [ind+N]\n",
    "\n",
    "mem = {}\n",
    "def find_descendent(node):\n",
    "    global mem\n",
    "    if node in mem: return mem[node]\n",
    "    if node<N: return [node]\n",
    "    pair = model.children_[node-N]\n",
    "    mem[node] = find_descendent(pair[0])+find_descendent(pair[1])\n",
    "    return mem[node]\n",
    "\n",
    "def find_children(n):\n",
    "    ans = []\n",
    "    for a in find_ancestor(n)[::-1]:\n",
    "        ans.append(find_descendent(a))\n",
    "    return ans[1] "
   ]
  },
  {
   "cell_type": "code",
   "execution_count": 121,
   "metadata": {},
   "outputs": [
    {
     "data": {
      "image/png": "[encoded data removed]",
      "text/plain": [
       "<Figure size 432x288 with 1 Axes>"
      ]
     },
     "metadata": {
      "needs_background": "light"
     },
     "output_type": "display_data"
    },
    {
     "name": "stdout",
     "output_type": "stream",
     "text": [
      "pontos do cluster 0: 193\n",
      "pontos do cluster 1: 2\n"
     ]
    }
   ],
   "source": [
    "model = AgglomerativeClustering(distance_threshold=0, n_clusters=None, \n",
    "                                affinity='euclidean', linkage='single').fit(X_scaled)\n",
    "\n",
    "plt.title('Dendograma Cluster Hierárquico: euclidian, single')\n",
    "plot_dendrogram(model, truncate_mode='level', p=3)\n",
    "plt.xlabel(\"Número de pontos nos nodos (ou index do ponto se fora do parênteses)\")\n",
    "plt.show()\n",
    "\n",
    "cluster_0 = find_children(0)\n",
    "for i in range(1,196):\n",
    "    if find_children(i) != cluster_0:\n",
    "        cluster_1 = find_children(i)\n",
    "        break \n",
    "        \n",
    "print('pontos do cluster 0:', len(cluster_0))\n",
    "print('pontos do cluster 1:', len(cluster_1) )"
   ]
  },
  {
   "cell_type": "markdown",
   "metadata": {},
   "source": [
    "### Melhor resultado do Clustering Hierárquico "
   ]
  },
  {
   "cell_type": "markdown",
   "metadata": {},
   "source": [
    "| Linkage|nº de pontos no cluster 0|nº de pontos no cluster 1|\n",
    "|--------|-------------------------|-------------------------|\n",
    "|Ward | 87 | 108 | \n",
    "|Complete | 181 | 14 | \n",
    "|Average| 191 | 4 | \n",
    "|Single | 193 | 4 | \n",
    "|Rótulo real | 48 | 147 |\n",
    "\n",
    "\n"
   ]
  },
  {
   "cell_type": "markdown",
   "metadata": {},
   "source": [
    "O que melhor se aproximou da proporção dos rótulos reais foi o método de linkage Ward."
   ]
  },
  {
   "cell_type": "code",
   "execution_count": 132,
   "metadata": {},
   "outputs": [
    {
     "name": "stdout",
     "output_type": "stream",
     "text": [
      "foram 1 corretos para o rótulo 0 e 61 corretos para o rótulo 1\n"
     ]
    }
   ],
   "source": [
    "correto_0 = 0 \n",
    "for i in range(len(c0)):\n",
    "    for j in range(len(list_0)):\n",
    "        if c0[i] == list_0[j]:\n",
    "            correto_0 += 1\n",
    "\n",
    "correto_1 = 0 \n",
    "for i in range(len(c1)):\n",
    "    for j in range(len(list_1)):\n",
    "        if c1[i] == list_1[j]:\n",
    "            correto_1 += 1\n",
    "print('foram %d corretos para o rótulo 0 e %d corretos para o rótulo 1' % (correto_0, correto_1))\n",
    "        "
   ]
  },
  {
   "cell_type": "markdown",
   "metadata": {},
   "source": [
    "Os resultados mostram que nesse caso ao utilizar métodos não supervisionados como forma de classificar os dados, não se obteve muito êxito. "
   ]
  }
 ],
 "metadata": {
  "kernelspec": {
   "display_name": "Python 3",
   "language": "python",
   "name": "python3"
  },
  "language_info": {
   "codemirror_mode": {
    "name": "ipython",
    "version": 3
   },
   "file_extension": ".py",
   "mimetype": "text/x-python",
   "name": "python",
   "nbconvert_exporter": "python",
   "pygments_lexer": "ipython3",
   "version": "3.7.3"
  }
 },
 "nbformat": 4,
 "nbformat_minor": 2
}
