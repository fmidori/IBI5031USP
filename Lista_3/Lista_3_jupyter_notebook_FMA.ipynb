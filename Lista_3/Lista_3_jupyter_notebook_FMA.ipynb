{
 "cells": [
  {
   "cell_type": "markdown",
   "metadata": {},
   "source": [
    "Aluno: Fernanda Midori Abukawa\n",
    "\n",
    "nº USP: 9797594\n",
    "\n",
    "Disciplina: IBI5031 - 2º semestre de 2020\n",
    "\n",
    "Prof: Marcelo da Silva Reis\n",
    "\n",
    "Lista 3\n",
    "\n",
    "utilizados: python3, anaconda3, jupyter notebooks v6.1, macOS, sklearn v0.23"
   ]
  },
  {
   "cell_type": "code",
   "execution_count": 1,
   "metadata": {},
   "outputs": [],
   "source": [
    "import pandas as pd\n",
    "import numpy as np\n",
    "import matplotlib.pyplot as plt \n",
    "from sklearn.svm import SVC \n",
    "from sklearn.metrics import confusion_matrix\n",
    "from sklearn import preprocessing\n",
    "from sklearn.metrics import plot_confusion_matrix\n",
    "from sklearn.model_selection import GridSearchCV\n",
    "from sklearn.preprocessing import StandardScaler\n",
    "from sklearn.metrics import confusion_matrix\n",
    "from sklearn.metrics import accuracy_score"
   ]
  },
  {
   "cell_type": "markdown",
   "metadata": {},
   "source": [
    "Após aberto o arquivo com o dataset, foi separado os features (X) dos rótulos (y) e o X foi normalizado com a função StandardScaler. Os rótulos 0 do y foram classificados como -1."
   ]
  },
  {
   "cell_type": "code",
   "execution_count": 2,
   "metadata": {},
   "outputs": [
    {
     "name": "stdout",
     "output_type": "stream",
     "text": [
      "são 195 pontos e 23 características\n",
      "X normalizado\n"
     ]
    }
   ],
   "source": [
    "#importando o dataset parkinsons.data.csv \n",
    "data = pd.read_csv('parkinsons.data.csv', sep = ',')\n",
    "\n",
    "#tirando a primeira coluna com os nomes dos pacientes\n",
    "data.drop('name', axis = 1, inplace=True)\n",
    "y = data['status'].copy()\n",
    "\n",
    "#trocando o rótulo 0 por -1 \n",
    "y = y.replace(to_replace = 0, value = -1)\n",
    "X = data.drop('status', axis = 1).copy()\n",
    "\n",
    "#numero N de pacientes e n_carac características \n",
    "N = len(X)\n",
    "n_carac = len(data.columns)\n",
    "print('são %d pontos e %d características' % (N, n_carac))\n",
    "\n",
    "#normalizar os dados de input \n",
    "scaler = StandardScaler()\n",
    "X_scaled = scaler.fit_transform(X)\n",
    "print('X normalizado')"
   ]
  },
  {
   "cell_type": "markdown",
   "metadata": {},
   "source": [
    "Foi utilizado para cada kernel, a função GridSearchCV para fazer a escolha dos melhores parâmetros para cada SVC(). Na variável 'parameters', tem se os valores testados para cada parâmetro (C, degree, gamma e coef0). Após a escolha do melhor conjunto de parâmetros, foi criado o classificador com os melhores parâmetros e aplicado ao dataset X. Foi medida a acurácia de cada modelo."
   ]
  },
  {
   "cell_type": "markdown",
   "metadata": {},
   "source": [
    "### polynomial"
   ]
  },
  {
   "cell_type": "code",
   "execution_count": 3,
   "metadata": {},
   "outputs": [
    {
     "name": "stdout",
     "output_type": "stream",
     "text": [
      "resultado melhores parâmetros: {'C': 10, 'coef0': 5, 'degree': 4, 'gamma': 0.01}\n"
     ]
    }
   ],
   "source": [
    "parameters = {  'C':[0.001, 0.01, 0.1, 0.5, 1, 10], \n",
    "                'degree':[2, 3, 4, 5],\n",
    "                'gamma':['scale', 0.0001, 0.001, 0.05, 0.01, 0.1, 0.5, 1],\n",
    "                'coef0': [1, 5, 10]}\n",
    "\n",
    "clf_poly = SVC(kernel = 'poly')\n",
    "clf_poly.grid = GridSearchCV(clf_poly, param_grid = parameters, cv = 10, verbose = 0, scoring = 'accuracy')\n",
    "clf_poly.grid.fit(X_scaled, y)\n",
    "\n",
    "print('resultado melhores parâmetros:',  clf_poly.grid.best_params_) "
   ]
  },
  {
   "cell_type": "code",
   "execution_count": 12,
   "metadata": {},
   "outputs": [
    {
     "data": {
      "image/png": "[encoded data removed]",
      "text/plain": [
       "<Figure size 432x288 with 2 Axes>"
      ]
     },
     "metadata": {
      "needs_background": "light"
     },
     "output_type": "display_data"
    },
    {
     "name": "stdout",
     "output_type": "stream",
     "text": [
      "são 195 classificações corretas e 0 erradas\n",
      "Verdadeiros positivos: 147\n",
      "Falsos positivos: 0\n",
      "Verdadeiros negativos: 48\n",
      "Falsos negativos: 0\n",
      "\n",
      "\n",
      "o número de suportes vetoriais é 43\n",
      "Acurácia: 1.000\n"
     ]
    }
   ],
   "source": [
    "clf_svm_poly = SVC(kernel = 'poly', C = 10, coef0 = 5, degree = 4, gamma = 0.01)\n",
    "clf_svm_poly.fit(X_scaled, y)\n",
    "\n",
    "plot_confusion_matrix(clf_svm_poly, X_scaled, y)\n",
    "plt.show()\n",
    "\n",
    "labels = clf_svm_poly.predict(X_scaled)\n",
    "cm = confusion_matrix(y, labels)\n",
    "print('são %d classificações corretas e %d erradas' % ((cm[1][1]+cm[0][0]),(cm[0][1]+cm[1][0])))\n",
    "print('Verdadeiros positivos:' , cm[1][1])\n",
    "print('Falsos positivos:', cm[0][1])\n",
    "print('Verdadeiros negativos:' , cm[0][0])\n",
    "print('Falsos negativos:', cm[1][0])\n",
    "print('\\n')\n",
    "\n",
    "#para ver os alfas\n",
    "alphas = abs(clf_svm_poly.dual_coef_)\n",
    "#pra ver numero de suportes vetoriais \n",
    "support_vectors = sum(clf_svm_poly.n_support_)\n",
    "print('o número de suportes vetoriais é %d' % support_vectors)\n",
    "print('Acurácia: %.3f' % (accuracy_score(y, labels)))"
   ]
  },
  {
   "cell_type": "markdown",
   "metadata": {},
   "source": [
    "## Linear"
   ]
  },
  {
   "cell_type": "code",
   "execution_count": 6,
   "metadata": {},
   "outputs": [
    {
     "name": "stdout",
     "output_type": "stream",
     "text": [
      "resultado melhores parâmetros: {'C': 0.01}\n"
     ]
    }
   ],
   "source": [
    "parameters = { 'C':[0.001, 0.01, 0.1, 0.5, 1, 10, 50, 100] }\n",
    "\n",
    "clf_lin = SVC(kernel = 'linear')\n",
    "clf_lin.grid = GridSearchCV(clf_lin, param_grid = parameters, cv = 10, verbose = 0, scoring = 'accuracy')\n",
    "clf_lin.grid.fit(X_scaled, y)\n",
    "\n",
    "print('resultado melhores parâmetros:', clf_lin.grid.best_params_) "
   ]
  },
  {
   "cell_type": "code",
   "execution_count": 7,
   "metadata": {},
   "outputs": [
    {
     "data": {
      "image/png": "[encoded data removed]",
      "text/plain": [
       "<Figure size 432x288 with 2 Axes>"
      ]
     },
     "metadata": {
      "needs_background": "light"
     },
     "output_type": "display_data"
    },
    {
     "name": "stdout",
     "output_type": "stream",
     "text": [
      "são 169 classificações corretas e 26 erradas\n",
      "Verdadeiros positivos: 146\n",
      "Falsos positivos: 25\n",
      "Verdadeiros negativos: 23\n",
      "Falsos negativos: 1\n",
      "\n",
      "\n",
      "o número de suportes vetoriais é 94\n",
      "Acurácia: 0.867\n"
     ]
    }
   ],
   "source": [
    "clf_svm_lin = SVC(kernel = 'linear', C = 0.01)\n",
    "clf_svm_lin.fit(X_scaled, y)\n",
    "plot_confusion_matrix(clf_svm_lin, X_scaled, y)\n",
    "plt.show()\n",
    "\n",
    "labels = clf_svm_lin.predict(X_scaled)\n",
    "cm = confusion_matrix(y, labels)\n",
    "print('são %d classificações corretas e %d erradas' % ((cm[1][1]+cm[0][0]),(cm[0][1]+cm[1][0])))\n",
    "print('Verdadeiros positivos:' , cm[1][1])\n",
    "print('Falsos positivos:', cm[0][1])\n",
    "print('Verdadeiros negativos:' , cm[0][0])\n",
    "print('Falsos negativos:', cm[1][0])\n",
    "print('\\n')\n",
    "\n",
    "#para ver os alphas \n",
    "alphas = abs(clf_svm_lin.dual_coef_)\n",
    "#pra ver numero de suportes vetoriais \n",
    "support_vectors = sum(clf_svm_lin.n_support_)\n",
    "print('o número de suportes vetoriais é %d' % support_vectors)\n",
    "print('Acurácia: %.3f' % ( accuracy_score(y, labels)))"
   ]
  },
  {
   "cell_type": "markdown",
   "metadata": {},
   "source": [
    "## Radial Basis Function"
   ]
  },
  {
   "cell_type": "code",
   "execution_count": 8,
   "metadata": {},
   "outputs": [
    {
     "name": "stdout",
     "output_type": "stream",
     "text": [
      "resultado melhores parâmetros: {'C': 10, 'gamma': 0.5}\n"
     ]
    }
   ],
   "source": [
    "parameters = {  'C':[0.001, 0.01, 0.1, 0.5, 1, 10, 50, 100], \n",
    "                'gamma':['scale', 0.0001, 0.001, 0.05, 0.01, 0.1, 0.5, 1, 5, 10]}\n",
    "\n",
    "clf_rbf = SVC(kernel = 'rbf')\n",
    "clf_rbf.grid = GridSearchCV(clf_rbf, param_grid = parameters, cv = 10, verbose = 0, scoring = 'accuracy')\n",
    "clf_rbf.grid.fit(X_scaled, y)\n",
    "\n",
    "print('resultado melhores parâmetros:',  clf_rbf.grid.best_params_) "
   ]
  },
  {
   "cell_type": "code",
   "execution_count": 10,
   "metadata": {},
   "outputs": [
    {
     "data": {
      "image/png": "[encoded data removed]",
      "text/plain": [
       "<Figure size 432x288 with 2 Axes>"
      ]
     },
     "metadata": {
      "needs_background": "light"
     },
     "output_type": "display_data"
    },
    {
     "name": "stdout",
     "output_type": "stream",
     "text": [
      "são 195 classificações corretas e 0 erradas\n",
      "Verdadeiros positivos: 147\n",
      "Falsos positivos: 0\n",
      "Verdadeiros negativos: 48\n",
      "Falsos negativos: 0\n",
      "\n",
      "\n",
      "o número de suportes vetoriais é 173\n",
      "Acurácia: 1.000\n"
     ]
    }
   ],
   "source": [
    "clf_svm_rbf = SVC(kernel = 'rbf', C = 10.0, gamma = 0.5)\n",
    "clf_svm_rbf.fit(X_scaled, y)\n",
    "plot_confusion_matrix(clf_svm_rbf, X_scaled, y)\n",
    "plt.show()\n",
    "\n",
    "labels = clf_svm_rbf.predict(X_scaled)\n",
    "cm = confusion_matrix(y, labels)\n",
    "print('são %d classificações corretas e %d erradas' % ((cm[1][1]+cm[0][0]),(cm[0][1]+cm[1][0])))\n",
    "print('Verdadeiros positivos:' , cm[1][1])\n",
    "print('Falsos positivos:', cm[0][1])\n",
    "print('Verdadeiros negativos:' , cm[0][0])\n",
    "print('Falsos negativos:', cm[1][0])\n",
    "print('\\n')\n",
    "\n",
    "#para ver os alphas \n",
    "alphas = abs(clf_svm_rbf.dual_coef_)\n",
    "#pra ver numero de suportes vetoriais \n",
    "support_vectors = sum(clf_svm_rbf.n_support_)\n",
    "print('o número de suportes vetoriais é %d' % support_vectors)\n",
    "print('Acurácia: %.3f' % ( accuracy_score(y, labels)))"
   ]
  },
  {
   "cell_type": "markdown",
   "metadata": {},
   "source": [
    "## sigmoid"
   ]
  },
  {
   "cell_type": "code",
   "execution_count": 13,
   "metadata": {},
   "outputs": [
    {
     "name": "stdout",
     "output_type": "stream",
     "text": [
      "resultado parâmetros otimizados: {'C': 10, 'coef0': 1, 'gamma': 0.01}\n"
     ]
    }
   ],
   "source": [
    "parameters = {  'C':[0.001, 0.01, 0.1, 0.5, 1, 10, 50, 100], \n",
    "                'gamma':['scale', 0.0001, 0.001, 0.05, 0.01, 0.1, 0.5, 1, 5, 10],\n",
    "                'coef0': [1, 5, 10, 50, 100]}\n",
    "\n",
    "clf_sig = SVC(kernel = 'sigmoid')\n",
    "clf_sig.grid = GridSearchCV(clf_sig, param_grid = parameters, cv = 10, verbose = 0, scoring = 'accuracy')\n",
    "clf_sig.grid.fit(X_scaled, y)\n",
    "\n",
    "print('resultado parâmetros otimizados:',  clf_sig.grid.best_params_) "
   ]
  },
  {
   "cell_type": "code",
   "execution_count": 14,
   "metadata": {},
   "outputs": [
    {
     "data": {
      "image/png": "[encoded data removed]",
      "text/plain": [
       "<Figure size 432x288 with 2 Axes>"
      ]
     },
     "metadata": {
      "needs_background": "light"
     },
     "output_type": "display_data"
    },
    {
     "name": "stdout",
     "output_type": "stream",
     "text": [
      "são 170 classificações corretas e 25 erradas\n",
      "Verdadeiros positivos: 143\n",
      "Falsos positivos: 21\n",
      "Verdadeiros negativos: 27\n",
      "Falsos negativos: 4\n",
      "\n",
      "\n",
      "o número de suportes vetoriais é 79\n",
      "Acurácia: 0.872\n"
     ]
    }
   ],
   "source": [
    "clf_svm_sig = SVC(kernel = 'sigmoid', C = 10.0, gamma = 0.01, coef0=1)\n",
    "clf_svm_sig.fit(X_scaled, y)\n",
    "plot_confusion_matrix(clf_svm_sig, X_scaled, y)\n",
    "plt.show()\n",
    "\n",
    "labels = clf_svm_sig.predict(X_scaled)\n",
    "cm = confusion_matrix(y, labels)\n",
    "print('são %d classificações corretas e %d erradas' % ((cm[1][1]+cm[0][0]),(cm[0][1]+cm[1][0])))\n",
    "print('Verdadeiros positivos:' , cm[1][1])\n",
    "print('Falsos positivos:', cm[0][1])\n",
    "print('Verdadeiros negativos:' , cm[0][0])\n",
    "print('Falsos negativos:', cm[1][0])\n",
    "print('\\n')\n",
    "\n",
    "#para ver os alphas \n",
    "alphas = abs(clf_svm_sig.dual_coef_)\n",
    "#pra ver numero de suportes vetoriais \n",
    "support_vectors = sum(clf_svm_sig.n_support_)\n",
    "print('o número de suportes vetoriais é %d' % support_vectors)\n",
    "print('Acurácia: %.3f' % ( accuracy_score(y, labels)))"
   ]
  },
  {
   "cell_type": "markdown",
   "metadata": {},
   "source": [
    "| Modelo|Verdadeiro positivo|Falso positivo|Verdadeiro negativo|Falso negativo|\n",
    "|-------|-------------------|--------------|-------------------|--------------|\n",
    "|Polynomial | 147 | 0 | 48 | 0 |\n",
    "|Radial Basis Function | 147 | 0 | 48 | 0 |\n",
    "|Sigmoid | 143 | 21 | 27 | 4 |\n",
    "|Linear | 146 | 23 | 25 | 1 |"
   ]
  },
  {
   "cell_type": "markdown",
   "metadata": {},
   "source": [
    "| Modelo|Acurácia|Número de Suportes Vetoriais|\n",
    "|-------|---------|----------------------------|\n",
    "Polynomial| 1.0 | 43 |\n",
    "Radial Basis Function | 1.0 | 173 |\n",
    "Sigmoid | 0.872 | 79 |\n",
    "Linear | 0.867 | 94 |\n"
   ]
  },
  {
   "cell_type": "markdown",
   "metadata": {},
   "source": [
    "O melhor modelo de SVM é o SVM com kernel polinomial, que atingiu acurácia de 1.0 com 43 suportes vetoriais."
   ]
  }
 ],
 "metadata": {
  "kernelspec": {
   "display_name": "Python 3",
   "language": "python",
   "name": "python3"
  },
  "language_info": {
   "codemirror_mode": {
    "name": "ipython",
    "version": 3
   },
   "file_extension": ".py",
   "mimetype": "text/x-python",
   "name": "python",
   "nbconvert_exporter": "python",
   "pygments_lexer": "ipython3",
   "version": "3.7.3"
  }
 },
 "nbformat": 4,
 "nbformat_minor": 2
}
